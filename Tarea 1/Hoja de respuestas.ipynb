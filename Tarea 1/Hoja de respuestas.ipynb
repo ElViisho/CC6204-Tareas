{
  "nbformat": 4,
  "nbformat_minor": 0,
  "metadata": {
    "colab": {
      "name": "Copy of Tarea_1_CC6402_Vicente_Videla para ver si luego juego con esto uwu",
      "provenance": [],
      "collapsed_sections": []
    },
    "kernelspec": {
      "name": "python3",
      "display_name": "Python 3"
    },
    "accelerator": "GPU",
    "widgets": {
      "application/vnd.jupyter.widget-state+json": {
        "6247823c695d4a4da70dde436b97691b": {
          "model_module": "@jupyter-widgets/controls",
          "model_name": "HBoxModel",
          "model_module_version": "1.5.0",
          "state": {
            "_view_name": "HBoxView",
            "_dom_classes": [],
            "_model_name": "HBoxModel",
            "_view_module": "@jupyter-widgets/controls",
            "_model_module_version": "1.5.0",
            "_view_count": null,
            "_view_module_version": "1.5.0",
            "box_style": "",
            "layout": "IPY_MODEL_364e234b7c0941f3b6edf4acf2caf2aa",
            "_model_module": "@jupyter-widgets/controls",
            "children": [
              "IPY_MODEL_4e2f6a11987a49a1bab1575952b780ab",
              "IPY_MODEL_f7f3df7afb4f4b4fae0f9479c06773ad",
              "IPY_MODEL_5af6fd6f1c904bc89ffe651f11a3f802"
            ]
          }
        },
        "364e234b7c0941f3b6edf4acf2caf2aa": {
          "model_module": "@jupyter-widgets/base",
          "model_name": "LayoutModel",
          "model_module_version": "1.2.0",
          "state": {
            "_view_name": "LayoutView",
            "grid_template_rows": null,
            "right": null,
            "justify_content": null,
            "_view_module": "@jupyter-widgets/base",
            "overflow": null,
            "_model_module_version": "1.2.0",
            "_view_count": null,
            "flex_flow": null,
            "width": null,
            "min_width": null,
            "border": null,
            "align_items": null,
            "bottom": null,
            "_model_module": "@jupyter-widgets/base",
            "top": null,
            "grid_column": null,
            "overflow_y": null,
            "overflow_x": null,
            "grid_auto_flow": null,
            "grid_area": null,
            "grid_template_columns": null,
            "flex": null,
            "_model_name": "LayoutModel",
            "justify_items": null,
            "grid_row": null,
            "max_height": null,
            "align_content": null,
            "visibility": null,
            "align_self": null,
            "height": null,
            "min_height": null,
            "padding": null,
            "grid_auto_rows": null,
            "grid_gap": null,
            "max_width": null,
            "order": null,
            "_view_module_version": "1.2.0",
            "grid_template_areas": null,
            "object_position": null,
            "object_fit": null,
            "grid_auto_columns": null,
            "margin": null,
            "display": null,
            "left": null
          }
        },
        "4e2f6a11987a49a1bab1575952b780ab": {
          "model_module": "@jupyter-widgets/controls",
          "model_name": "HTMLModel",
          "model_module_version": "1.5.0",
          "state": {
            "_view_name": "HTMLView",
            "style": "IPY_MODEL_9f1d45eb990e449ab5ceb3bde972f109",
            "_dom_classes": [],
            "description": "",
            "_model_name": "HTMLModel",
            "placeholder": "​",
            "_view_module": "@jupyter-widgets/controls",
            "_model_module_version": "1.5.0",
            "value": "",
            "_view_count": null,
            "_view_module_version": "1.5.0",
            "description_tooltip": null,
            "_model_module": "@jupyter-widgets/controls",
            "layout": "IPY_MODEL_b00125691c8944b09f7d0ba4511139db"
          }
        },
        "f7f3df7afb4f4b4fae0f9479c06773ad": {
          "model_module": "@jupyter-widgets/controls",
          "model_name": "FloatProgressModel",
          "model_module_version": "1.5.0",
          "state": {
            "_view_name": "ProgressView",
            "style": "IPY_MODEL_08e2be10fb8145f9944b26689e2f6f37",
            "_dom_classes": [],
            "description": "",
            "_model_name": "FloatProgressModel",
            "bar_style": "success",
            "max": 9912422,
            "_view_module": "@jupyter-widgets/controls",
            "_model_module_version": "1.5.0",
            "value": 9912422,
            "_view_count": null,
            "_view_module_version": "1.5.0",
            "orientation": "horizontal",
            "min": 0,
            "description_tooltip": null,
            "_model_module": "@jupyter-widgets/controls",
            "layout": "IPY_MODEL_015801cfc04b406b9e52db2bbcb683eb"
          }
        },
        "5af6fd6f1c904bc89ffe651f11a3f802": {
          "model_module": "@jupyter-widgets/controls",
          "model_name": "HTMLModel",
          "model_module_version": "1.5.0",
          "state": {
            "_view_name": "HTMLView",
            "style": "IPY_MODEL_6e1c8f573d884f55b3d22f11da3aa445",
            "_dom_classes": [],
            "description": "",
            "_model_name": "HTMLModel",
            "placeholder": "​",
            "_view_module": "@jupyter-widgets/controls",
            "_model_module_version": "1.5.0",
            "value": " 9913344/? [00:00&lt;00:00, 38178718.33it/s]",
            "_view_count": null,
            "_view_module_version": "1.5.0",
            "description_tooltip": null,
            "_model_module": "@jupyter-widgets/controls",
            "layout": "IPY_MODEL_1b857daea6fa47adbf67cc7e8e41a466"
          }
        },
        "9f1d45eb990e449ab5ceb3bde972f109": {
          "model_module": "@jupyter-widgets/controls",
          "model_name": "DescriptionStyleModel",
          "model_module_version": "1.5.0",
          "state": {
            "_view_name": "StyleView",
            "_model_name": "DescriptionStyleModel",
            "description_width": "",
            "_view_module": "@jupyter-widgets/base",
            "_model_module_version": "1.5.0",
            "_view_count": null,
            "_view_module_version": "1.2.0",
            "_model_module": "@jupyter-widgets/controls"
          }
        },
        "b00125691c8944b09f7d0ba4511139db": {
          "model_module": "@jupyter-widgets/base",
          "model_name": "LayoutModel",
          "model_module_version": "1.2.0",
          "state": {
            "_view_name": "LayoutView",
            "grid_template_rows": null,
            "right": null,
            "justify_content": null,
            "_view_module": "@jupyter-widgets/base",
            "overflow": null,
            "_model_module_version": "1.2.0",
            "_view_count": null,
            "flex_flow": null,
            "width": null,
            "min_width": null,
            "border": null,
            "align_items": null,
            "bottom": null,
            "_model_module": "@jupyter-widgets/base",
            "top": null,
            "grid_column": null,
            "overflow_y": null,
            "overflow_x": null,
            "grid_auto_flow": null,
            "grid_area": null,
            "grid_template_columns": null,
            "flex": null,
            "_model_name": "LayoutModel",
            "justify_items": null,
            "grid_row": null,
            "max_height": null,
            "align_content": null,
            "visibility": null,
            "align_self": null,
            "height": null,
            "min_height": null,
            "padding": null,
            "grid_auto_rows": null,
            "grid_gap": null,
            "max_width": null,
            "order": null,
            "_view_module_version": "1.2.0",
            "grid_template_areas": null,
            "object_position": null,
            "object_fit": null,
            "grid_auto_columns": null,
            "margin": null,
            "display": null,
            "left": null
          }
        },
        "08e2be10fb8145f9944b26689e2f6f37": {
          "model_module": "@jupyter-widgets/controls",
          "model_name": "ProgressStyleModel",
          "model_module_version": "1.5.0",
          "state": {
            "_view_name": "StyleView",
            "_model_name": "ProgressStyleModel",
            "description_width": "",
            "_view_module": "@jupyter-widgets/base",
            "_model_module_version": "1.5.0",
            "_view_count": null,
            "_view_module_version": "1.2.0",
            "bar_color": null,
            "_model_module": "@jupyter-widgets/controls"
          }
        },
        "015801cfc04b406b9e52db2bbcb683eb": {
          "model_module": "@jupyter-widgets/base",
          "model_name": "LayoutModel",
          "model_module_version": "1.2.0",
          "state": {
            "_view_name": "LayoutView",
            "grid_template_rows": null,
            "right": null,
            "justify_content": null,
            "_view_module": "@jupyter-widgets/base",
            "overflow": null,
            "_model_module_version": "1.2.0",
            "_view_count": null,
            "flex_flow": null,
            "width": null,
            "min_width": null,
            "border": null,
            "align_items": null,
            "bottom": null,
            "_model_module": "@jupyter-widgets/base",
            "top": null,
            "grid_column": null,
            "overflow_y": null,
            "overflow_x": null,
            "grid_auto_flow": null,
            "grid_area": null,
            "grid_template_columns": null,
            "flex": null,
            "_model_name": "LayoutModel",
            "justify_items": null,
            "grid_row": null,
            "max_height": null,
            "align_content": null,
            "visibility": null,
            "align_self": null,
            "height": null,
            "min_height": null,
            "padding": null,
            "grid_auto_rows": null,
            "grid_gap": null,
            "max_width": null,
            "order": null,
            "_view_module_version": "1.2.0",
            "grid_template_areas": null,
            "object_position": null,
            "object_fit": null,
            "grid_auto_columns": null,
            "margin": null,
            "display": null,
            "left": null
          }
        },
        "6e1c8f573d884f55b3d22f11da3aa445": {
          "model_module": "@jupyter-widgets/controls",
          "model_name": "DescriptionStyleModel",
          "model_module_version": "1.5.0",
          "state": {
            "_view_name": "StyleView",
            "_model_name": "DescriptionStyleModel",
            "description_width": "",
            "_view_module": "@jupyter-widgets/base",
            "_model_module_version": "1.5.0",
            "_view_count": null,
            "_view_module_version": "1.2.0",
            "_model_module": "@jupyter-widgets/controls"
          }
        },
        "1b857daea6fa47adbf67cc7e8e41a466": {
          "model_module": "@jupyter-widgets/base",
          "model_name": "LayoutModel",
          "model_module_version": "1.2.0",
          "state": {
            "_view_name": "LayoutView",
            "grid_template_rows": null,
            "right": null,
            "justify_content": null,
            "_view_module": "@jupyter-widgets/base",
            "overflow": null,
            "_model_module_version": "1.2.0",
            "_view_count": null,
            "flex_flow": null,
            "width": null,
            "min_width": null,
            "border": null,
            "align_items": null,
            "bottom": null,
            "_model_module": "@jupyter-widgets/base",
            "top": null,
            "grid_column": null,
            "overflow_y": null,
            "overflow_x": null,
            "grid_auto_flow": null,
            "grid_area": null,
            "grid_template_columns": null,
            "flex": null,
            "_model_name": "LayoutModel",
            "justify_items": null,
            "grid_row": null,
            "max_height": null,
            "align_content": null,
            "visibility": null,
            "align_self": null,
            "height": null,
            "min_height": null,
            "padding": null,
            "grid_auto_rows": null,
            "grid_gap": null,
            "max_width": null,
            "order": null,
            "_view_module_version": "1.2.0",
            "grid_template_areas": null,
            "object_position": null,
            "object_fit": null,
            "grid_auto_columns": null,
            "margin": null,
            "display": null,
            "left": null
          }
        }
      }
    }
  },
  "cells": [
    {
      "cell_type": "markdown",
      "metadata": {
        "id": "iCszeuRk0NuH"
      },
      "source": [
        "# Tarea 1: Activaciones y pasada hacia adelante en una red neuronal <br/> CC6204 Deep Learning, Universidad de Chile  <br/> Hoja de respuestas\n",
        "## Nombre: \n",
        "Fecha de entrega: 6 de septiembre de 2021"
      ]
    },
    {
      "cell_type": "code",
      "metadata": {
        "id": "8QQB7jV7LMEo",
        "colab": {
          "base_uri": "https://localhost:8080/"
        },
        "outputId": "d2af61aa-49ac-4ffe-a4ac-a536dece8283"
      },
      "source": [
        "# Este notebook está pensado para correr en CoLaboratory. \n",
        "# Lo único imprescindible por importar es torch \n",
        "import torch\n",
        "\n",
        "# Posiblemenete quieras instalar e importar ipdb para debuggear.\n",
        "# Si es así, descomenta lo siguiente\n",
        "# !pip install -q ipdb\n",
        "# import ipdb\n",
        "\n",
        "# Aqui instalamos la libreria de correccion del curso\n",
        "!pip install \"git+https://github.com/dccuchile/CC6204.git@master#egg=cc6204&subdirectory=autocorrect\""
      ],
      "execution_count": null,
      "outputs": [
        {
          "output_type": "stream",
          "name": "stdout",
          "text": [
            "Collecting cc6204\n",
            "  Cloning https://github.com/dccuchile/CC6204.git (to revision master) to /tmp/pip-install-ygciurha/cc6204_529a961e11be4af7a84aec847a173307\n",
            "  Running command git clone -q https://github.com/dccuchile/CC6204.git /tmp/pip-install-ygciurha/cc6204_529a961e11be4af7a84aec847a173307\n",
            "Requirement already satisfied: requests in /usr/local/lib/python3.7/dist-packages (from cc6204) (2.23.0)\n",
            "Requirement already satisfied: numpy in /usr/local/lib/python3.7/dist-packages (from cc6204) (1.19.5)\n",
            "Requirement already satisfied: torch in /usr/local/lib/python3.7/dist-packages (from cc6204) (1.9.0+cu111)\n",
            "Requirement already satisfied: urllib3!=1.25.0,!=1.25.1,<1.26,>=1.21.1 in /usr/local/lib/python3.7/dist-packages (from requests->cc6204) (1.24.3)\n",
            "Requirement already satisfied: certifi>=2017.4.17 in /usr/local/lib/python3.7/dist-packages (from requests->cc6204) (2021.5.30)\n",
            "Requirement already satisfied: chardet<4,>=3.0.2 in /usr/local/lib/python3.7/dist-packages (from requests->cc6204) (3.0.4)\n",
            "Requirement already satisfied: idna<3,>=2.5 in /usr/local/lib/python3.7/dist-packages (from requests->cc6204) (2.10)\n",
            "Requirement already satisfied: typing-extensions in /usr/local/lib/python3.7/dist-packages (from torch->cc6204) (3.7.4.3)\n",
            "Building wheels for collected packages: cc6204\n",
            "  Building wheel for cc6204 (setup.py) ... \u001b[?25l\u001b[?25hdone\n",
            "  Created wheel for cc6204: filename=cc6204-0.5.0-py3-none-any.whl size=5800 sha256=534a78218a241772ab110c6efa03168c755831264bda4d75b4503c1ba5ef0a29\n",
            "  Stored in directory: /tmp/pip-ephem-wheel-cache-5zmcitle/wheels/3c/26/f5/2abeb546c3ff1ab6e69113a3ae69bc0ac3442642727fd0dcc2\n",
            "Successfully built cc6204\n",
            "Installing collected packages: cc6204\n",
            "Successfully installed cc6204-0.5.0\n"
          ]
        }
      ]
    },
    {
      "cell_type": "code",
      "metadata": {
        "id": "49OevYJkMdgW",
        "colab": {
          "base_uri": "https://localhost:8080/"
        },
        "outputId": "f494c488-5fe4-4c90-8c01-d8e139966586"
      },
      "source": [
        "# importamos las herramientas del curso\n",
        "from cc6204 import AutoCorrect, FailedTest\n",
        "\n",
        "# ingresa el host y port que posteamos en u-cursos\n",
        "\n",
        "corrector = AutoCorrect(host=\"cc6204.dcc.uchile.cl\", port=443)\n",
        "\n",
        "# anota el token que te daremos en u-cursos\n",
        "\n",
        "token = \"]ye/Ox;nsz\""
      ],
      "execution_count": null,
      "outputs": [
        {
          "output_type": "stream",
          "name": "stdout",
          "text": [
            "Connection stablished\n"
          ]
        }
      ]
    },
    {
      "cell_type": "markdown",
      "metadata": {
        "id": "Uq9u0IfT0VRp"
      },
      "source": [
        "# Parte 1: Funciones de activación y función de salida"
      ]
    },
    {
      "cell_type": "markdown",
      "metadata": {
        "id": "DMw80P8o0qrJ"
      },
      "source": [
        "## 1a) Funciones de activación"
      ]
    },
    {
      "cell_type": "code",
      "metadata": {
        "id": "tDhcNbNT0YNr"
      },
      "source": [
        "def sig(T):\n",
        "  return torch.reciprocal(1 + torch.exp(-1 * T))\n",
        "\n",
        "def tanh(T):\n",
        "  E = torch.exp(T)\n",
        "  e = torch.exp(-1 * T)\n",
        "  return (E - e) * torch.reciprocal(E + e)\n",
        "\n",
        "# Tu código acá\n",
        "def relu(T, x=0):\n",
        "  t = torch.zeros_like(T)\n",
        "  return torch.maximum(t,T)\n",
        "\n",
        "def swish(T, beta):\n",
        "  return T*sig(beta*T)\n",
        "\n",
        "def celu(T, alpha):\n",
        "  return torch.where(T>0, T, alpha*(torch.exp(T/alpha) - 1))"
      ],
      "execution_count": null,
      "outputs": []
    },
    {
      "cell_type": "code",
      "metadata": {
        "id": "s0SmO2x7M1pn",
        "colab": {
          "base_uri": "https://localhost:8080/"
        },
        "outputId": "1889cbcb-078c-4598-8389-637089b6156c"
      },
      "source": [
        "# Tests del API del curso\n",
        "test_relu = corrector.get_test_data(homework=1, question=\"1a\", test=1, token=token)\n",
        "test_swish, swish_par = corrector.get_test_data(homework=1, question=\"1a\", test=2, token=token)\n",
        "test_celu, celu_par = corrector.get_test_data(homework=1, question=\"1a\", test=3, token=token)\n",
        "\n",
        "# probablemente quieras convertr los variables test_* a un tensor, ya que por defecto son listas\n",
        "\n",
        "corrector.submit(homework=1, question=\"1a\", test=1, token=token, answer=relu(torch.tensor(test_relu)))\n",
        "corrector.submit(homework=1, question=\"1a\", test=2, token=token, answer=swish(torch.tensor(test_swish), swish_par))\n",
        "corrector.submit(homework=1, question=\"1a\", test=3, token=token, answer=celu(torch.tensor(test_celu), celu_par))"
      ],
      "execution_count": null,
      "outputs": [
        {
          "output_type": "stream",
          "name": "stdout",
          "text": [
            "Correct Test!\n",
            "Correct Test!\n",
            "Correct Test!\n"
          ]
        }
      ]
    },
    {
      "cell_type": "markdown",
      "metadata": {
        "id": "e_0dTh7l1bas"
      },
      "source": [
        "## 1b) Softmax"
      ]
    },
    {
      "cell_type": "markdown",
      "metadata": {
        "id": "NjIyp2nL1le5"
      },
      "source": [
        "Demostración:\n",
        "\n",
        "$\\text{softmax}(x_1,\\ldots,x_n)$ = $(s_1,\\ldots,s_n)$ donde:\n",
        "\\begin{equation}\n",
        "s_i = \\frac{e^{x_i}}{\\sum_{j=1}^{n}e^{x_j}}\n",
        "\\end{equation}\n",
        "Definimos $\\text{softmax}(x_1-M,\\ldots,x_n-M) = (r_1,\\ldots, r_n)$ donde:\n",
        "\\begin{equation}\n",
        "r_i = \\frac{e^{x_i-M}}{\\sum_{j=1}^{n}e^{x_j-M}}\n",
        "\\end{equation}\n",
        "Luego, para un $i$ cualquiera:\n",
        "\\begin{equation}\n",
        "r_i = \\frac{e^{x_i-M}}{\\sum_{j=1}^{n}e^{x_j-M}} =\n",
        "\\frac{e^{x_i}\\cdot e^{-M}}{\\sum_{j=1}^{n}e^{x_j}\\cdot e^{-M}} = \n",
        "\\frac{e^{x_i}}{\\sum_{j=1}^{n}e^{x_j}} = s_i\n",
        "\\end{equation}\n",
        "Por lo tanto, \n",
        "\\begin{equation}\n",
        "\\forall i, r_i = s_i \\Rightarrow \\text{softmax}(x_1-M,\\ldots,x_n-M) = \\text{softmax} (x_1,\\ldots,x_n)\n",
        "\\end{equation}\n"
      ]
    },
    {
      "cell_type": "code",
      "metadata": {
        "id": "jDg2sU7D1dIY"
      },
      "source": [
        "# Función softmax\n",
        "def softmax(T, dim, estable=True):\n",
        "  T -= torch.max(T)\n",
        "  return (torch.exp(T)/torch.sum(torch.exp(T),dim,True))"
      ],
      "execution_count": null,
      "outputs": []
    },
    {
      "cell_type": "code",
      "metadata": {
        "id": "4nJhjuGZXgkM",
        "colab": {
          "base_uri": "https://localhost:8080/"
        },
        "outputId": "10499aed-1e48-4d14-bb88-3f973b15796b"
      },
      "source": [
        "# Tests del API del curso\n",
        "test_softmax, _dim = corrector.get_test_data(homework=1, question=\"1b\", test=1, token=token)\n",
        "corrector.submit(homework=1, question=\"1b\", test=1, token=token, answer=softmax(torch.tensor(test_softmax), dim=_dim))"
      ],
      "execution_count": null,
      "outputs": [
        {
          "output_type": "stream",
          "name": "stdout",
          "text": [
            "Correct Test!\n"
          ]
        }
      ]
    },
    {
      "cell_type": "markdown",
      "metadata": {
        "id": "662XLsDA9XXI"
      },
      "source": [
        "# Parte 2: Red neuronal y pasada hacia adelante (forward)"
      ]
    },
    {
      "cell_type": "markdown",
      "metadata": {
        "id": "fTUm9ZbX9bRA"
      },
      "source": [
        "## 2a) Clase para red neuronal, 2b) Iterando por parametros, 2d) Pasada hacia adelante"
      ]
    },
    {
      "cell_type": "code",
      "metadata": {
        "id": "f_jeuYbv9WhK"
      },
      "source": [
        "# Definición clase FFNN, que crea una red neuronal con pasada feed forward\n",
        "\n",
        "class FFNN(torch.nn.Module):\n",
        "  def __init__(self, F, l_h, l_a, l_p, C):\n",
        "    super(FFNN, self).__init__()\n",
        "    \n",
        "    #Crear parametros\n",
        "    self.F = torch.nn.Parameter(torch.randn(F))\n",
        "    self.weights = torch.nn.ParameterList([torch.nn.Parameter(torch.randn(F, l_h[0]))])\n",
        "    self.weights.extend([torch.nn.Parameter(torch.randn(l_h[i], l_h[i+1])) for i in range(len(l_h) - 1)])\n",
        "    self.bias = torch.nn.ParameterList([torch.nn.Parameter(torch.zeros(l_h[i])) for i in range(len(l_h))])\n",
        "    self.functions = l_a\n",
        "    self.function_params = l_p\n",
        "    self.U = torch.nn.Parameter(torch.randn(l_h[-1], C))\n",
        "    self.c = torch.nn.Parameter(torch.zeros(C))\n",
        "  \n",
        "  def resumen(self):\n",
        "    # Usa self.parameters() o self.named_parameters().\n",
        "    for i in self.named_parameters():\n",
        "      print(i[0] + \" de dimensiones: \" + str(i[1].size()))\n",
        "  \n",
        "  def forward(self, x, device ='cuda'):\n",
        "    # Usa los parámetros y funciones de activación.\n",
        "    # El valor de retorno debiera ser y = softmax(capa_de_salida).\n",
        "    s = x.to(device)\n",
        "    self.to(device)\n",
        "    for i in range(len(self.weights)):\n",
        "      s = self.functions[i](s @ self.weights[i] + self.bias[i], self.function_params[i])\n",
        "    s = (s @ self.U + self.c)\n",
        "    return softmax(s,-1)\n",
        "\n",
        "  # Le pasa los valores pre-entrenado a la red\n",
        "  def init_weights(self, W, b, u, C):\n",
        "    for i in range(len(W)):\n",
        "      self.weights[i] = torch.nn.Parameter(W[i])\n",
        "    for i in range(len(b)):\n",
        "      self.bias[i] = torch.nn.Parameter(b[i])\n",
        "    self.U = torch.nn.Parameter(u)\n",
        "    self.c = torch.nn.Parameter(C)\n",
        "    \n"
      ],
      "execution_count": null,
      "outputs": []
    },
    {
      "cell_type": "markdown",
      "metadata": {
        "id": "Bgf5Xx-34Pa1"
      },
      "source": [
        "## 2c) Moviendo los parámetros entre dispositivos"
      ]
    },
    {
      "cell_type": "code",
      "metadata": {
        "id": "2zppplXd4QXa",
        "colab": {
          "base_uri": "https://localhost:8080/"
        },
        "outputId": "608b33c6-ca1f-4b3f-bd59-2b48e70744a8"
      },
      "source": [
        "# Tu código acá\n",
        "red_neuronal = FFNN(300,[50,30],[relu,sig], [1,1], 10)\n",
        "red_neuronal.to('cuda')\n",
        "!nvidia-smi"
      ],
      "execution_count": null,
      "outputs": [
        {
          "output_type": "stream",
          "name": "stdout",
          "text": [
            "Sun Oct 10 15:34:55 2021       \n",
            "+-----------------------------------------------------------------------------+\n",
            "| NVIDIA-SMI 470.74       Driver Version: 460.32.03    CUDA Version: 11.2     |\n",
            "|-------------------------------+----------------------+----------------------+\n",
            "| GPU  Name        Persistence-M| Bus-Id        Disp.A | Volatile Uncorr. ECC |\n",
            "| Fan  Temp  Perf  Pwr:Usage/Cap|         Memory-Usage | GPU-Util  Compute M. |\n",
            "|                               |                      |               MIG M. |\n",
            "|===============================+======================+======================|\n",
            "|   0  Tesla K80           Off  | 00000000:00:04.0 Off |                    0 |\n",
            "| N/A   72C    P0    74W / 149W |    494MiB / 11441MiB |      0%      Default |\n",
            "|                               |                      |                  N/A |\n",
            "+-------------------------------+----------------------+----------------------+\n",
            "                                                                               \n",
            "+-----------------------------------------------------------------------------+\n",
            "| Processes:                                                                  |\n",
            "|  GPU   GI   CI        PID   Type   Process name                  GPU Memory |\n",
            "|        ID   ID                                                   Usage      |\n",
            "|=============================================================================|\n",
            "|  No running processes found                                                 |\n",
            "+-----------------------------------------------------------------------------+\n"
          ]
        }
      ]
    },
    {
      "cell_type": "markdown",
      "metadata": {
        "id": "swTnKxznL6Ep"
      },
      "source": [
        "# Parte 3: Probando tu red con parámetros pre-entrenados para MNIST"
      ]
    },
    {
      "cell_type": "code",
      "metadata": {
        "id": "uOBcElJ7BPcQ",
        "colab": {
          "base_uri": "https://localhost:8080/",
          "height": 514,
          "referenced_widgets": [
            "6247823c695d4a4da70dde436b97691b",
            "364e234b7c0941f3b6edf4acf2caf2aa",
            "4e2f6a11987a49a1bab1575952b780ab",
            "f7f3df7afb4f4b4fae0f9479c06773ad",
            "5af6fd6f1c904bc89ffe651f11a3f802",
            "9f1d45eb990e449ab5ceb3bde972f109",
            "b00125691c8944b09f7d0ba4511139db",
            "08e2be10fb8145f9944b26689e2f6f37",
            "015801cfc04b406b9e52db2bbcb683eb",
            "6e1c8f573d884f55b3d22f11da3aa445",
            "1b857daea6fa47adbf67cc7e8e41a466",
            "7791b3b17630490a9164f7c4649c8e35",
            "cb67ada5c7a54233b5d8116481ff7245",
            "697c3eacfc2649bf81087d192cd39cc9"
          ]
        },
        "outputId": "7b7ee26e-7360-412f-b238-989a016a8997"
      },
      "source": [
        "from torchvision.datasets import MNIST\n",
        "from torchvision.transforms import ToTensor\n",
        "# Importamos funcionalidades útiles para mirar los datos.\n",
        "from matplotlib.pyplot import subplots\n",
        "from random import randint\n",
        "\n",
        "# Descarga y almacena el conjunto de prueba de MNIST.\n",
        "dataset = MNIST('mnist', train=False, transform=ToTensor(), download=True)\n",
        "print('Cantidad total de datos:',len(dataset))"
      ],
      "execution_count": null,
      "outputs": [
        {
          "output_type": "stream",
          "name": "stdout",
          "text": [
            "Downloading http://yann.lecun.com/exdb/mnist/train-images-idx3-ubyte.gz\n",
            "Downloading http://yann.lecun.com/exdb/mnist/train-images-idx3-ubyte.gz to mnist/MNIST/raw/train-images-idx3-ubyte.gz\n"
          ]
        },
        {
          "output_type": "display_data",
          "data": {
            "application/vnd.jupyter.widget-view+json": {
              "model_id": "6247823c695d4a4da70dde436b97691b",
              "version_minor": 0,
              "version_major": 2
            },
            "text/plain": [
              "  0%|          | 0/9912422 [00:00<?, ?it/s]"
            ]
          },
          "metadata": {}
        },
        {
          "output_type": "stream",
          "name": "stdout",
          "text": [
            "Extracting mnist/MNIST/raw/train-images-idx3-ubyte.gz to mnist/MNIST/raw\n",
            "\n",
            "Downloading http://yann.lecun.com/exdb/mnist/train-labels-idx1-ubyte.gz\n",
            "Downloading http://yann.lecun.com/exdb/mnist/train-labels-idx1-ubyte.gz to mnist/MNIST/raw/train-labels-idx1-ubyte.gz\n"
          ]
        },
        {
          "output_type": "display_data",
          "data": {
            "application/vnd.jupyter.widget-view+json": {
              "model_id": "7791b3b17630490a9164f7c4649c8e35",
              "version_minor": 0,
              "version_major": 2
            },
            "text/plain": [
              "  0%|          | 0/28881 [00:00<?, ?it/s]"
            ]
          },
          "metadata": {}
        },
        {
          "output_type": "stream",
          "name": "stdout",
          "text": [
            "Extracting mnist/MNIST/raw/train-labels-idx1-ubyte.gz to mnist/MNIST/raw\n",
            "\n",
            "Downloading http://yann.lecun.com/exdb/mnist/t10k-images-idx3-ubyte.gz\n",
            "Downloading http://yann.lecun.com/exdb/mnist/t10k-images-idx3-ubyte.gz to mnist/MNIST/raw/t10k-images-idx3-ubyte.gz\n"
          ]
        },
        {
          "output_type": "display_data",
          "data": {
            "application/vnd.jupyter.widget-view+json": {
              "model_id": "cb67ada5c7a54233b5d8116481ff7245",
              "version_minor": 0,
              "version_major": 2
            },
            "text/plain": [
              "  0%|          | 0/1648877 [00:00<?, ?it/s]"
            ]
          },
          "metadata": {}
        },
        {
          "output_type": "stream",
          "name": "stdout",
          "text": [
            "Extracting mnist/MNIST/raw/t10k-images-idx3-ubyte.gz to mnist/MNIST/raw\n",
            "\n",
            "Downloading http://yann.lecun.com/exdb/mnist/t10k-labels-idx1-ubyte.gz\n",
            "Downloading http://yann.lecun.com/exdb/mnist/t10k-labels-idx1-ubyte.gz to mnist/MNIST/raw/t10k-labels-idx1-ubyte.gz\n"
          ]
        },
        {
          "output_type": "display_data",
          "data": {
            "application/vnd.jupyter.widget-view+json": {
              "model_id": "697c3eacfc2649bf81087d192cd39cc9",
              "version_minor": 0,
              "version_major": 2
            },
            "text/plain": [
              "  0%|          | 0/4542 [00:00<?, ?it/s]"
            ]
          },
          "metadata": {}
        },
        {
          "output_type": "stream",
          "name": "stdout",
          "text": [
            "Extracting mnist/MNIST/raw/t10k-labels-idx1-ubyte.gz to mnist/MNIST/raw\n",
            "\n",
            "Cantidad total de datos: 10000\n"
          ]
        },
        {
          "output_type": "stream",
          "name": "stderr",
          "text": [
            "/usr/local/lib/python3.7/dist-packages/torchvision/datasets/mnist.py:498: UserWarning: The given NumPy array is not writeable, and PyTorch does not support non-writeable tensors. This means you can write to the underlying (supposedly non-writeable) NumPy array using the tensor. You may want to copy the array to protect its data or make it writeable before converting it to a tensor. This type of warning will be suppressed for the rest of this program. (Triggered internally at  /pytorch/torch/csrc/utils/tensor_numpy.cpp:180.)\n",
            "  return torch.from_numpy(parsed.astype(m[2], copy=False)).view(*s)\n"
          ]
        }
      ]
    },
    {
      "cell_type": "markdown",
      "metadata": {
        "id": "s6s-z1DNL-J0"
      },
      "source": [
        "## 3b) Cargando los parámetros pre-entrenados"
      ]
    },
    {
      "cell_type": "code",
      "metadata": {
        "id": "SLeq3y8FE3SU",
        "colab": {
          "base_uri": "https://localhost:8080/"
        },
        "outputId": "21defaba-a00f-4d12-fbd2-63337bf8c1f3"
      },
      "source": [
        "# Se importan los datos pre-entrenados\n",
        "!wget -N https://raw.githubusercontent.com/dccuchile/CC6204/master/2020/tareas/tarea1/mnist_weights/U.txt\n",
        "!wget -N https://raw.githubusercontent.com/dccuchile/CC6204/master/2020/tareas/tarea1/mnist_weights/W1.txt\n",
        "!wget -N https://raw.githubusercontent.com/dccuchile/CC6204/master/2020/tareas/tarea1/mnist_weights/W2.txt\n",
        "!wget -N https://raw.githubusercontent.com/dccuchile/CC6204/master/2020/tareas/tarea1/mnist_weights/b1.txt\n",
        "!wget -N https://raw.githubusercontent.com/dccuchile/CC6204/master/2020/tareas/tarea1/mnist_weights/b2.txt\n",
        "!wget -N https://raw.githubusercontent.com/dccuchile/CC6204/master/2020/tareas/tarea1/mnist_weights/c.txt\n",
        "\n",
        "# Se guardan los datos en variables\n",
        "from numpy import loadtxt\n",
        "U = torch.from_numpy(loadtxt('U.txt')).float()\n",
        "W1 = torch.from_numpy(loadtxt('W1.txt')).float()\n",
        "W2 = torch.from_numpy(loadtxt('W2.txt')).float()\n",
        "b1 = torch.from_numpy(loadtxt('b1.txt')).float()\n",
        "b2 = torch.from_numpy(loadtxt('b2.txt')).float()\n",
        "c = torch.from_numpy(loadtxt('c.txt')).float()\n",
        "\n",
        "# Se inicializa una red con los parámetros correspondientes a los datos pre-entrenados\n",
        "# y luego se le pasan los datos a la red\n",
        "red = FFNN(784, [32, 16], [relu, relu], [0,0], 10)\n",
        "red.init_weights([W1, W2], [b1, b2], U, c)\n"
      ],
      "execution_count": null,
      "outputs": [
        {
          "output_type": "stream",
          "name": "stdout",
          "text": [
            "--2021-10-10 15:34:56--  https://raw.githubusercontent.com/dccuchile/CC6204/master/2020/tareas/tarea1/mnist_weights/U.txt\n",
            "Resolving raw.githubusercontent.com (raw.githubusercontent.com)... 185.199.111.133, 185.199.108.133, 185.199.109.133, ...\n",
            "Connecting to raw.githubusercontent.com (raw.githubusercontent.com)|185.199.111.133|:443... connected.\n",
            "HTTP request sent, awaiting response... 200 OK\n",
            "Length: 4099 (4.0K) [text/plain]\n",
            "Saving to: ‘U.txt’\n",
            "\n",
            "\rU.txt                 0%[                    ]       0  --.-KB/s               \rU.txt               100%[===================>]   4.00K  --.-KB/s    in 0s      \n",
            "\n",
            "Last-modified header missing -- time-stamps turned off.\n",
            "2021-10-10 15:34:56 (47.0 MB/s) - ‘U.txt’ saved [4099/4099]\n",
            "\n",
            "--2021-10-10 15:34:57--  https://raw.githubusercontent.com/dccuchile/CC6204/master/2020/tareas/tarea1/mnist_weights/W1.txt\n",
            "Resolving raw.githubusercontent.com (raw.githubusercontent.com)... 185.199.111.133, 185.199.108.133, 185.199.109.133, ...\n",
            "Connecting to raw.githubusercontent.com (raw.githubusercontent.com)|185.199.111.133|:443... connected.\n",
            "HTTP request sent, awaiting response... 200 OK\n",
            "Length: 638480 (624K) [text/plain]\n",
            "Saving to: ‘W1.txt’\n",
            "\n",
            "W1.txt              100%[===================>] 623.52K  --.-KB/s    in 0.04s   \n",
            "\n",
            "Last-modified header missing -- time-stamps turned off.\n",
            "2021-10-10 15:34:57 (14.6 MB/s) - ‘W1.txt’ saved [638480/638480]\n",
            "\n",
            "--2021-10-10 15:34:57--  https://raw.githubusercontent.com/dccuchile/CC6204/master/2020/tareas/tarea1/mnist_weights/W2.txt\n",
            "Resolving raw.githubusercontent.com (raw.githubusercontent.com)... 185.199.111.133, 185.199.108.133, 185.199.109.133, ...\n",
            "Connecting to raw.githubusercontent.com (raw.githubusercontent.com)|185.199.111.133|:443... connected.\n",
            "HTTP request sent, awaiting response... 200 OK\n",
            "Length: 13052 (13K) [text/plain]\n",
            "Saving to: ‘W2.txt’\n",
            "\n",
            "W2.txt              100%[===================>]  12.75K  --.-KB/s    in 0s      \n",
            "\n",
            "Last-modified header missing -- time-stamps turned off.\n",
            "2021-10-10 15:34:57 (67.4 MB/s) - ‘W2.txt’ saved [13052/13052]\n",
            "\n",
            "--2021-10-10 15:34:57--  https://raw.githubusercontent.com/dccuchile/CC6204/master/2020/tareas/tarea1/mnist_weights/b1.txt\n",
            "Resolving raw.githubusercontent.com (raw.githubusercontent.com)... 185.199.111.133, 185.199.108.133, 185.199.109.133, ...\n",
            "Connecting to raw.githubusercontent.com (raw.githubusercontent.com)|185.199.111.133|:443... connected.\n",
            "HTTP request sent, awaiting response... 200 OK\n",
            "Length: 811 [text/plain]\n",
            "Saving to: ‘b1.txt’\n",
            "\n",
            "b1.txt              100%[===================>]     811  --.-KB/s    in 0s      \n",
            "\n",
            "Last-modified header missing -- time-stamps turned off.\n",
            "2021-10-10 15:34:57 (40.7 MB/s) - ‘b1.txt’ saved [811/811]\n",
            "\n",
            "--2021-10-10 15:34:58--  https://raw.githubusercontent.com/dccuchile/CC6204/master/2020/tareas/tarea1/mnist_weights/b2.txt\n",
            "Resolving raw.githubusercontent.com (raw.githubusercontent.com)... 185.199.111.133, 185.199.108.133, 185.199.109.133, ...\n",
            "Connecting to raw.githubusercontent.com (raw.githubusercontent.com)|185.199.111.133|:443... connected.\n",
            "HTTP request sent, awaiting response... 200 OK\n",
            "Length: 404 [text/plain]\n",
            "Saving to: ‘b2.txt’\n",
            "\n",
            "b2.txt              100%[===================>]     404  --.-KB/s    in 0s      \n",
            "\n",
            "Last-modified header missing -- time-stamps turned off.\n",
            "2021-10-10 15:34:58 (20.3 MB/s) - ‘b2.txt’ saved [404/404]\n",
            "\n",
            "--2021-10-10 15:34:58--  https://raw.githubusercontent.com/dccuchile/CC6204/master/2020/tareas/tarea1/mnist_weights/c.txt\n",
            "Resolving raw.githubusercontent.com (raw.githubusercontent.com)... 185.199.111.133, 185.199.108.133, 185.199.109.133, ...\n",
            "Connecting to raw.githubusercontent.com (raw.githubusercontent.com)|185.199.111.133|:443... connected.\n",
            "HTTP request sent, awaiting response... 200 OK\n",
            "Length: 255 [text/plain]\n",
            "Saving to: ‘c.txt’\n",
            "\n",
            "c.txt               100%[===================>]     255  --.-KB/s    in 0s      \n",
            "\n",
            "Last-modified header missing -- time-stamps turned off.\n",
            "2021-10-10 15:34:58 (11.0 MB/s) - ‘c.txt’ saved [255/255]\n",
            "\n"
          ]
        }
      ]
    },
    {
      "cell_type": "markdown",
      "metadata": {
        "id": "WWRa68ZFMIyr"
      },
      "source": [
        "## 3c) Calcula la predicción de un ejemplo al azar"
      ]
    },
    {
      "cell_type": "code",
      "metadata": {
        "id": "a-SaIzRoMMoc",
        "colab": {
          "base_uri": "https://localhost:8080/",
          "height": 576
        },
        "outputId": "5f35d139-e34f-48ca-e52e-5d35eb2c0df6"
      },
      "source": [
        "# Muestra algunos ejemplos al azar\n",
        "n_ejemplos = 3\n",
        "fig, axs = subplots(nrows=n_ejemplos, figsize=(2,n_ejemplos*3))\n",
        "\n",
        "# Se calculan los ejemplos al azar y muestra si se acertó o no\n",
        "for i in range(n_ejemplos):  \n",
        "  idx = randint(0,len(dataset))\n",
        "  T, l = dataset[idx]\n",
        "  img = T.view(28,28).numpy()\n",
        "  axs[i].set_title(\"clase: \"+ str(l))\n",
        "  axs[i].imshow(img)\n",
        "  result = torch.argmax(red.forward(torch.flatten(T)), dim=0)\n",
        "  print(\"test \" + str(l) + \": \" + str(result.item()))\n"
      ],
      "execution_count": null,
      "outputs": [
        {
          "output_type": "stream",
          "name": "stdout",
          "text": [
            "test 0: 0\n",
            "test 1: 1\n",
            "test 6: 6\n"
          ]
        },
        {
          "output_type": "display_data",
          "data": {
            "image/png": "[encoded data removed]",
            "text/plain": [
              "<Figure size 144x648 with 3 Axes>"
            ]
          },
          "metadata": {
            "needs_background": "light"
          }
        }
      ]
    },
    {
      "cell_type": "markdown",
      "metadata": {
        "id": "i1cZFU8rMNr1"
      },
      "source": [
        "## 3d) Pasando todos los ejemplos por la red con un `DataLoader`"
      ]
    },
    {
      "cell_type": "code",
      "metadata": {
        "id": "mL49_0ZAMRd_",
        "colab": {
          "base_uri": "https://localhost:8080/"
        },
        "outputId": "c886251a-4056-43ea-a818-c6f38e7984b4"
      },
      "source": [
        "from torch.utils.data import DataLoader\n",
        "dataloader = DataLoader(dataset, batch_size=100)\n",
        "\n",
        "# Función que calcula porcentaje de acierto de la red\n",
        "def calcula_acierto(red, dataset, batch_size=100, device='cuda'):\n",
        "  buenos = 0\n",
        "  for x, y in dataset:\n",
        "    result = torch.argmax(red.forward(torch.flatten(x), device=device), dim=0)\n",
        "    if result.item() == y:\n",
        "      buenos+=1\n",
        "  return buenos/len(dataset)\n",
        "\n",
        "porcentaje = calcula_acierto(red, dataset)*100\n",
        "print(f\"{porcentaje} % de acierto\")"
      ],
      "execution_count": null,
      "outputs": [
        {
          "output_type": "stream",
          "name": "stdout",
          "text": [
            "96.12 % de acierto\n"
          ]
        }
      ]
    },
    {
      "cell_type": "markdown",
      "metadata": {
        "id": "EKXqo4FpX2Id"
      },
      "source": [
        "### Corrección red"
      ]
    },
    {
      "cell_type": "code",
      "metadata": {
        "id": "JMcid2LRXzrg",
        "colab": {
          "base_uri": "https://localhost:8080/"
        },
        "outputId": "5ead7bc1-8854-4c2e-9ded-fbd74d50db6d"
      },
      "source": [
        "# Tests del API del curso\n",
        "from torch.utils.data import Subset\n",
        "indices = corrector.get_test_data(homework=1, question=\"network\", test=1, token=token)\n",
        "test_set = Subset(dataset, indices)\n",
        "\n",
        "# Modelo con los parámetros pre-entrenados para MNIST\n",
        "your_network = FFNN(784, [32, 16], [relu, relu], [0,0], 10)\n",
        "your_network.init_weights([W1, W2], [b1, b2], U, c)\n",
        "\n",
        "# Montar el `test_set` en un tensor de (N, 28*28) usando DataLoader\n",
        "X = list(DataLoader(test_set, batch_size=len(test_set)))[0][0].view(-1, 28*28)\n",
        "\n",
        "# Almacenar el resultado en un puro tensor de (N,1)\n",
        "result = torch.argmax(your_network(X), dim=1)\n",
        "\n",
        "corrector.submit(homework=1, question=\"network\", test=1, token=token, answer=result)"
      ],
      "execution_count": null,
      "outputs": [
        {
          "output_type": "stream",
          "name": "stdout",
          "text": [
            "Correct Test!\n"
          ]
        }
      ]
    },
    {
      "cell_type": "markdown",
      "metadata": {
        "id": "3pgWygWCMYTx"
      },
      "source": [
        "## 3e) Opcional: Muestra los casos en donde la red se equivoca"
      ]
    },
    {
      "cell_type": "code",
      "metadata": {
        "id": "FM_eP23XMaTn"
      },
      "source": [
        "# Acá tu código"
      ],
      "execution_count": null,
      "outputs": []
    },
    {
      "cell_type": "markdown",
      "metadata": {
        "id": "beF870pABHKe"
      },
      "source": [
        "## 3d) Opcional: Crea tus propios ejemplos de dígitos para clasificar"
      ]
    },
    {
      "cell_type": "code",
      "metadata": {
        "id": "KOqCJx4LBG1W"
      },
      "source": [
        "# Acá tu código"
      ],
      "execution_count": null,
      "outputs": []
    }
  ]
}