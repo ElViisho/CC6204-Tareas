{
  "nbformat": 4,
  "nbformat_minor": 0,
  "metadata": {
    "kernelspec": {
      "display_name": "Python 3",
      "language": "python",
      "name": "python3"
    },
    "language_info": {
      "codemirror_mode": {
        "name": "ipython",
        "version": 3
      },
      "file_extension": ".py",
      "mimetype": "text/x-python",
      "name": "python",
      "nbconvert_exporter": "python",
      "pygments_lexer": "ipython3",
      "version": "3.6.8"
    },
    "colab": {
      "name": "Copy of Tarea_2_CC6204_2021_Vicente_Videla_Donoso",
      "provenance": [],
      "collapsed_sections": []
    },
    "accelerator": "GPU"
  },
  "cells": [
    {
      "cell_type": "markdown",
      "metadata": {
        "id": "vEJLFL-H5axT"
      },
      "source": [
        "# Tarea 2: Backpropagation, descenso de gradiente y entrenamiento <br/> CC6204 Deep Learning, Universidad de Chile  <br/> Hoja de respuestas\n",
        "## Nombre: \n",
        "Fecha de entrega: 4 de octubre de 2021\n",
        "\n",
        "Para la **corrección automática** hemos creado una funcionalidad nueva que les permite comprobar el tiempo que demora su solución. En colab estos tiempos pueden ser variables entre una ejecución y otra del mismo código. No se preocupen si les falla el test por `time` algunas veces. Pueden hacer `time=0` en la ultima linea de cada test para evitar estos errores. También hemos usado nombres para los tests. Estos pueden serles de ayuda para determinar qué partes de su implementación deben corregir ;-)\n"
      ]
    },
    {
      "cell_type": "code",
      "metadata": {
        "id": "9rN1E2MUXDSn",
        "colab": {
          "base_uri": "https://localhost:8080/"
        },
        "outputId": "133adc47-68bd-4b0b-b0d7-07431866e585"
      },
      "source": [
        "# Este notebook está pensado para correr en CoLaboratory. \n",
        "# Lo único imprescindible por importar es torch\n",
        "import torch\n",
        "\n",
        "# Posiblemenete quieras instalar e importar ipdb para debuggear.\n",
        "# Si es así, descomenta lo siguiente:\n",
        "# !pip install -q ipdb\n",
        "# import ipdb\n",
        "\n",
        "# Aqui instalamos la libreria de correccion del curso\n",
        "!pip install -U \"git+https://github.com/dccuchile/CC6204.git@master#egg=cc6204&subdirectory=autocorrect\"\n",
        "from timeit import default_timer as timer"
      ],
      "execution_count": 1,
      "outputs": [
        {
          "output_type": "stream",
          "name": "stdout",
          "text": [
            "Collecting cc6204\n",
            "  Cloning https://github.com/dccuchile/CC6204.git (to revision master) to /tmp/pip-install-cmeszpz_/cc6204_4e837663b70f4758899565f7ec48a98e\n",
            "  Running command git clone -q https://github.com/dccuchile/CC6204.git /tmp/pip-install-cmeszpz_/cc6204_4e837663b70f4758899565f7ec48a98e\n",
            "Requirement already satisfied: requests in /usr/local/lib/python3.7/dist-packages (from cc6204) (2.23.0)\n",
            "Requirement already satisfied: numpy in /usr/local/lib/python3.7/dist-packages (from cc6204) (1.19.5)\n",
            "Requirement already satisfied: torch in /usr/local/lib/python3.7/dist-packages (from cc6204) (1.10.0+cu111)\n",
            "Requirement already satisfied: urllib3!=1.25.0,!=1.25.1,<1.26,>=1.21.1 in /usr/local/lib/python3.7/dist-packages (from requests->cc6204) (1.24.3)\n",
            "Requirement already satisfied: idna<3,>=2.5 in /usr/local/lib/python3.7/dist-packages (from requests->cc6204) (2.10)\n",
            "Requirement already satisfied: certifi>=2017.4.17 in /usr/local/lib/python3.7/dist-packages (from requests->cc6204) (2021.10.8)\n",
            "Requirement already satisfied: chardet<4,>=3.0.2 in /usr/local/lib/python3.7/dist-packages (from requests->cc6204) (3.0.4)\n",
            "Requirement already satisfied: typing-extensions in /usr/local/lib/python3.7/dist-packages (from torch->cc6204) (3.10.0.2)\n",
            "Building wheels for collected packages: cc6204\n",
            "  Building wheel for cc6204 (setup.py) ... \u001b[?25l\u001b[?25hdone\n",
            "  Created wheel for cc6204: filename=cc6204-0.5.0-py3-none-any.whl size=5800 sha256=13b1907b02cf38625a95974a22c4d617a763e268fe4b3d6e24e8ded80c240e6f\n",
            "  Stored in directory: /tmp/pip-ephem-wheel-cache-_dklrn43/wheels/3c/26/f5/2abeb546c3ff1ab6e69113a3ae69bc0ac3442642727fd0dcc2\n",
            "Successfully built cc6204\n",
            "Installing collected packages: cc6204\n",
            "Successfully installed cc6204-0.5.0\n"
          ]
        }
      ]
    },
    {
      "cell_type": "code",
      "metadata": {
        "id": "PVhyLn9G5NJV",
        "colab": {
          "base_uri": "https://localhost:8080/"
        },
        "outputId": "ecc0246b-cf64-47c9-a4b7-1a2c849dc498"
      },
      "source": [
        "# importamos las herramientas del curso\n",
        "from cc6204 import AutoCorrect, FailedTest\n",
        "\n",
        "# ingresa el host y port que posteamos en u-cursos\n",
        "corrector = AutoCorrect(host=\"cc6204.dcc.uchile.cl\", port=443)\n",
        "\n",
        "# anota el token que te daremos en u-cursos\n",
        "token = \"]ye/Ox;nsz\""
      ],
      "execution_count": 2,
      "outputs": [
        {
          "output_type": "stream",
          "name": "stdout",
          "text": [
            "Connection stablished\n"
          ]
        }
      ]
    },
    {
      "cell_type": "markdown",
      "metadata": {
        "id": "fg8i3agyXDSr"
      },
      "source": [
        "# Parte 1: Preliminares: funciones de activación y función de error\n"
      ]
    },
    {
      "cell_type": "markdown",
      "metadata": {
        "id": "NbzcMAkOXDSr"
      },
      "source": [
        "## 1a) Derivando las funciones de activación"
      ]
    },
    {
      "cell_type": "markdown",
      "metadata": {
        "id": "pcybEP7fXDSs"
      },
      "source": [
        "Escribe acá tus respuestas para las derivadas de cada función de activación.\n",
        "<br>\n",
        "\n",
        "\\begin{equation}\n",
        "\\frac{\\partial\\ \\text{relu}(x)}{\\partial x} = \\begin{cases} 1 & x \\geq 0 \\\\ 0 & x<0 \\end{cases} \\\\\n",
        "\\end{equation}\n",
        "<br>\n",
        "\n",
        "\\begin{eqnarray}\n",
        "\\frac{\\partial\\ \\text{swish}(x, \\beta)}{\\partial x} & = \n",
        "\\frac{\\partial\\ (x \\text{ sig}(\\beta x))}{\\partial x} & =\n",
        "\\text{sig}(\\beta x) + \\beta x (\\frac{e^{-\\beta x} + 1}{(1+e^{-\\beta x})^2} - \\frac{1}{(1+e^{-\\beta x})^2}) &=\n",
        "\\text{sig}(\\beta x) + \\beta x(\\text{sig}(\\beta x) - \\text{sig}(\\beta x)^2) = \n",
        "\\text{sig}(\\beta x)+\\beta\\text{swish}(x,\\beta)(1-\\text{sig}(\\beta x)) \\\\\n",
        "\\frac{\\partial\\ \\text{swish}(x, \\beta)}{\\partial \\beta} & =  \n",
        "\\frac{\\partial\\ (x \\text{ sig}(\\beta x))}{\\partial \\beta} & =\n",
        "x^2(\\text{ sig}(\\beta x) - \\text{ sig}(\\beta x)^2) &=\n",
        "x^2\\text{ sig}(\\beta x)(1- \\text{ sig}(\\beta x)) =\n",
        "\\text{swish}(x,\\beta)(x-\\text{swish}(x,\\beta)) \\\\\n",
        "\\end{eqnarray}\n",
        "<br>\n",
        "\n",
        "<!-- \\begin{eqnarray}\n",
        "\\frac{\\partial\\ \\text{swish}(x, b)}{\\partial x} & = & \n",
        "\\frac{\\partial\\ (x \\times sig(\\beta x))}{\\partial x} & = & \n",
        "\\frac{\\partial\\ (\\frac{x}{1+ e ^{-\\beta x}})}{\\partial x} & = & \n",
        "\\frac{(1 + e^{-\\beta x}) + \\beta x e^{-\\beta x}}{(1+e^{-^\\beta x})^2} & = &\n",
        "\\frac{1}{1+e^{-\\beta x}} +\\frac{\\beta x e^{-\\beta x}}{(1+e^{-\\beta x})^2} & = & \n",
        "sig(\\beta x) + \\beta x (\\frac{e^{-\\beta x} + 1}{(1+e^{-\\beta x})^2} - \\frac{1}{(1+e^{-\\beta x})^2}) & = sig(\\beta x) + \\beta x(sig(\\beta x) - sig(\\beta x)^2) & = &\n",
        "sig(\\beta x) + \\beta swish(x, b)(1 - sig(\\beta x))\n",
        "\\\\\n",
        "\\end{eqnarray}\n",
        "<br>\n",
        "\\begin{eqnarray}\n",
        "\\frac{\\partial\\ \\text{swish}(x, b)}{\\partial b} & = &\n",
        "\\frac{\\partial\\ (x \\times sig(\\beta x))}{\\partial \\beta} & = & \n",
        "\\frac{\\partial\\ (\\frac{x}{1+ e ^{-\\beta x}})}{\\partial \\beta} & = & \n",
        "\\frac{x^2 e^{-\\beta x}}{(1+e^{-\\beta x})^2} & = &\n",
        "\\frac{x^2 [e^{-\\beta x} + 1 -1]}{(1+e^{-\\beta x})^2} & = &\n",
        "x^2[ \\frac{1 + e^{-\\beta x}}{(1+e^{-\\beta x})^2}  - \\frac{1}{(1+e^{-\\beta x})^2} ] & = &\n",
        "x^2(sig(\\beta x) - sig(\\beta x)^2) &=&\n",
        "x^2sig(\\beta x)(1- sig(\\beta x))\n",
        "\\end{eqnarray} -->\n",
        "\n",
        "\n",
        "\\begin{eqnarray}\n",
        "\\frac{\\partial\\ \\text{celu}(x, \\alpha)}{\\partial x} & = &\n",
        "\\begin{cases} 1 & x \\geq 0\\\\ e^{\\frac{x}{\\alpha}} & x < 0 \\end{cases} \\\\\n",
        "\\frac{\\partial\\ \\text{celu}(x, \\alpha)}{\\partial \\alpha} & = &\n",
        "\\begin{cases} 0 & x \\geq 0\\\\ (e^{\\frac{x}{\\alpha}}-1) + \\alpha(-1e^{\\frac{x}{\\alpha}})\\frac{x}{\\alpha^2} & x < 0 \\end{cases} & = \n",
        "\\begin{cases} 0 & x \\geq 0\\\\ e^{\\frac{x}{\\alpha}}(1-\\frac{x}{\\alpha}) - 1 & x < 0 \\end{cases} & =\n",
        "\\begin{cases} 0 & x \\geq 0\\\\ \\frac{\\text{celu}(x,\\alpha)-xe^{\\frac{x}{\\alpha}}}{\\alpha} & x < 0 \\end{cases} \\\\\n",
        "\\end{eqnarray}"
      ]
    },
    {
      "cell_type": "code",
      "metadata": {
        "id": "6QfQVggvNuv9"
      },
      "source": [
        "# Los gradientes se pueden implementar como parte de cada una de las funciones de activación\n",
        "# En el caso de swish y celu devuelven una tupla (d_dx, d_dp)\n",
        "\n",
        "def sig(T, gradient=False):\n",
        "  if gradient:\n",
        "    sigT = sig(T)\n",
        "    return sigT * (1 - sigT)\n",
        "  return torch.reciprocal(1 + torch.exp(-1 * T))\n",
        "  \n",
        "def tanh(T, gradient=False):\n",
        "  if gradient:\n",
        "    tanhT = tanh(T)\n",
        "    return 1 - tanhT * tanhT\n",
        "  E = torch.exp(T)\n",
        "  e = torch.exp(-1 * T)\n",
        "  return (E - e) * torch.reciprocal(E + e)\n",
        "\n",
        "def relu(T, gradient=False):\n",
        "  if gradient:\n",
        "    outT = torch.zeros_like(T)\n",
        "    outT[T>=0] = 1\n",
        "    return outT\n",
        "  return torch.max(T, torch.zeros_like(T))\n",
        "\n",
        "def swish(T, beta=1, gradient=False):\n",
        "  if gradient:\n",
        "    sigbT = sig(beta * T)\n",
        "    swishT = T * sigbT\n",
        "    return sigbT + beta * swishT * (1 - sigbT), swishT * (T - swishT)\n",
        "  return T * torch.reciprocal(1 + torch.exp(-beta * T))\n",
        "\n",
        "def celu(T, alpha=1, gradient=False):\n",
        "  if alpha == 0:\n",
        "    raise ValueError(\"alpha cannot be 0\")\n",
        "\n",
        "  zeros = torch.zeros_like(T)\n",
        "  Talpha = T / alpha\n",
        "  \n",
        "  if gradient:\n",
        "    e = Talpha.exp()\n",
        "    d_dx = torch.ones_like(T)\n",
        "    d_dx[T<0] = e[T<0]\n",
        "    zeros[T<0] = (celu(T)[T<0] - T[T<0] * e[T<0]) / alpha\n",
        "    return d_dx, zeros # d_dx, d_da\n",
        "  \n",
        "  return torch.max(zeros, T) + torch.min(zeros, alpha * (Talpha).expm1())\n",
        "\n",
        "def softmax(T, dim, estable=True):\n",
        "  if estable:\n",
        "    T -= T.max(dim=dim, keepdim=True)[0]  # keepdim=True => output has dim with size 1. Otherwise, dim is squeezed\n",
        "  exp = torch.exp(T)\n",
        "  return exp / torch.sum(exp, dim=dim, keepdim=True)  # keepdim=True => output has dim with size 1. Otherwise, dim is squeezed"
      ],
      "execution_count": 3,
      "outputs": []
    },
    {
      "cell_type": "markdown",
      "metadata": {
        "id": "ifPp_c1eXDSt"
      },
      "source": [
        "## 1b) Entropía Cruzada"
      ]
    },
    {
      "cell_type": "code",
      "metadata": {
        "id": "w4wXj3AUXDSu"
      },
      "source": [
        "# Tu código acá\n",
        "def CELoss(Q, P, estable=True, epsilon=1e-8):\n",
        "  # Q y P: representan distribuciones de probabilidad discreta  \n",
        "  #        (mediante matrices con las mismas dimensiones)\n",
        "  # estable y epsilon: nos permiten lograr estabilidad numérica cuando \n",
        "  #       intentamos computar el logaritmo de valores muy pequeños.\n",
        "  #       epsilon limitará el valor mínimo del valor original cuando estable=True\n",
        "  N = Q.shape[0]\n",
        "  if estable:\n",
        "    Q = Q.clamp(epsilon, 1-epsilon)\n",
        "  return -(P * Q.log()).sum()/N"
      ],
      "execution_count": 4,
      "outputs": []
    },
    {
      "cell_type": "code",
      "metadata": {
        "id": "qrjGpVdg4xi1",
        "colab": {
          "base_uri": "https://localhost:8080/"
        },
        "outputId": "9ff2a31e-c781-4c46-f355-7e2bfd5b968c"
      },
      "source": [
        "# Tests del API del curso\n",
        "for test in ['small', 'estable', 'eps', 'no-estable']:\n",
        "  # Obtengamos dos distribuciones de pdobabilidad y los parametros estable y epsilon\n",
        "  Q, P, estable, eps = corrector.get_test_data(homework=2, question=\"1b\", test=test, token=token)\n",
        "\n",
        "  # Corramos tu implementacion de CELoss para ver como se comporta\n",
        "  s = timer()\n",
        "  result = CELoss(Q=torch.Tensor(Q), P=torch.Tensor(P), estable=estable, epsilon=eps)\n",
        "  t = timer() - s\n",
        "\n",
        "  # Veamos si todo fue OK :)\n",
        "  corrector.sumbit(homework=2, question=\"1b\", test=test, token=token, answer=result, time=0)"
      ],
      "execution_count": 5,
      "outputs": [
        {
          "output_type": "stream",
          "name": "stderr",
          "text": [
            "/usr/local/lib/python3.7/dist-packages/ipykernel_launcher.py:12: FutureWarning: Old method `sumbit` has been renamed to `submit`, please use that instead.\n",
            "  if sys.path[0] == '':\n"
          ]
        },
        {
          "output_type": "stream",
          "name": "stdout",
          "text": [
            "Correct Test!\n",
            "Correct Test!\n",
            "Correct Test!\n",
            "Correct Test!\n"
          ]
        }
      ]
    },
    {
      "cell_type": "markdown",
      "metadata": {
        "id": "rlLnZM7hi0C2"
      },
      "source": [
        "## 1c) Opcional: Entropía Cruzada Categórica"
      ]
    },
    {
      "cell_type": "code",
      "metadata": {
        "id": "7Qj1GI81izYt"
      },
      "source": [
        "# No es necesario que entregues código en esta parte.\n",
        "# Pero si quieres, igual hay espacio ;-)"
      ],
      "execution_count": 6,
      "outputs": []
    },
    {
      "cell_type": "markdown",
      "metadata": {
        "id": "EwedMCZjXDSw"
      },
      "source": [
        "# Parte 2: Más derivadas y back propagation"
      ]
    },
    {
      "cell_type": "markdown",
      "metadata": {
        "id": "nftKKxlBXDSx"
      },
      "source": [
        "## 2a) Derivando la última capa"
      ]
    },
    {
      "cell_type": "markdown",
      "metadata": {
        "id": "WDBD96xWXDSx"
      },
      "source": [
        "Escribe tu cálculo acá.\n",
        "<br>\n",
        "\n",
        "\\begin{eqnarray}\n",
        "\\frac{\\partial \\cal L}{\\partial u^{(L+1)}_{ij}} & = & \\sum_k \\frac{\\partial \\cal L}{\\partial \\hat y_{ik}} \\frac{\\partial \\hat y_{ik}}{\\partial u^{(L+1)}_{ij}} \\\\\n",
        "\\end{eqnarray}\n",
        "\n",
        "primero, calculemos $\\frac{\\partial \\hat y_{ik}}{\\partial u^{(L+1)}_{ij}}$\n",
        "\n",
        "\\begin{eqnarray}\n",
        "\\frac{\\partial \\hat y_{ik}}{\\partial u^{(L+1)}_{ij}} & = & \\frac{\\partial \\frac{e^{u^{(L+1)}_{ik}}}{\\sum_m e^{u^{(L+1)}_{im}}}}{\\partial u^{(L+1)}_{ij}}\\\\\n",
        "& = & \\begin{cases} \\hat y_{ik}(1-\\hat y_{ij}) & k = j\\\\ -\\hat y_{ij} \\hat y_{ik} & k\\neq j \\end{cases}\n",
        "\\end{eqnarray}\n",
        "\n",
        "segundo, calculemos $\\frac{\\partial \\cal L}{\\partial \\hat y_{ik}}$\n",
        "\n",
        "\\begin{eqnarray}\n",
        "\\frac{\\partial \\cal L}{\\partial \\hat y_{ik}} & = & -\\frac{1}{N}\\frac{\\partial \\sum_p\\sum_q y_{pq} \\text{log}(\\hat y_{pq})}{\\partial \\hat y_{ik}} \\\\\n",
        "& = & -\\frac{1}{N}y_{ik}\\frac{1}{\\hat y_{ik}}\n",
        "\\end{eqnarray}\n",
        "\n",
        "Sustituyendo\n",
        "\n",
        "\\begin{eqnarray}\n",
        "\\frac{\\partial \\cal L}{\\partial u^{(L+1)}_{ij}} & = & \\frac{1}{N}\\left(\\sum_{k\\neq j} (y_{ik}\\hat y_{ij}) - y_{ij} + y_{ij} \\hat y_{ij}\\right)\n",
        "& = & \\frac{1}{N} (\\hat y_{ij} - y_{ij})\n",
        "\\end{eqnarray}\n",
        "\n",
        "<br>\n",
        "(No es necesario que repitas el código que era solo de ayuda para chequear las dimensiones.)"
      ]
    },
    {
      "cell_type": "markdown",
      "metadata": {
        "id": "Nzp5SWKBXDSy"
      },
      "source": [
        "## 2b) Derivando la última capa (continuación)"
      ]
    },
    {
      "cell_type": "markdown",
      "metadata": {
        "id": "n9cubvpeXDSz"
      },
      "source": [
        "Escribe tus respuestas acá.\n",
        "<br>\n",
        "\n",
        "\\begin{equation}\n",
        "\\frac{\\partial\\cal L}{\\partial U_{ij}} = \\frac{\\partial\\cal L}{\\partial u^{(L+1)}_{kl}} \\frac{\\partial u^{(L+1)}_{kl}}{\\partial U_{ij}} \\\\\n",
        "\\end{equation}\n",
        "<br>\n",
        "\n",
        "donde\n",
        "\n",
        "\\begin{equation}\n",
        "\\frac{\\partial u^{(L+1)}_{kl}}{\\partial U_{ij}} = \\begin{cases} h_{ki} & r=i, l=j \\\\0 & e.o.c \\end{cases}\n",
        "\\end{equation}\n",
        "\n",
        "luego\n",
        "\n",
        "\\begin{eqnarray}\n",
        "\\frac{\\partial\\cal L}{\\partial U_{ij}} & = & \\frac{\\partial\\cal L}{\\partial u^{(L+1)}_{kl}} h_{ki} \\\\\n",
        "& = & h^T \\frac{\\partial\\cal L}{\\partial u^{(L+1)}}\n",
        "\\end{eqnarray}\n",
        "\n",
        "\n",
        "\\begin{eqnarray}\n",
        "\\frac{\\partial\\cal L}{\\partial c_i} & = & \\frac{\\partial\\cal L}{\\partial u^{(L+1)}_{kl}}\\frac{\\partial u^{(L+1)}_{kl}}{\\partial c_i} \\\\\n",
        "& = & \\frac{\\partial\\cal L}{\\partial u^{(L+1)}_{kl}}\n",
        "\\end{eqnarray}\n",
        "<br>\n",
        "\n",
        "\\begin{eqnarray}\n",
        "\\frac{\\partial\\cal L}{\\partial h^{(L)}_{ij}} & = & \\frac{\\partial\\cal L}{\\partial u^{(L+1)}_{kl}}U_{jl} \\\\\n",
        "\\end{eqnarray}\n",
        "<br>\n",
        "(No es necesario que repitas el código que era solo de ayuda para chequear las dimensiones.)"
      ]
    },
    {
      "cell_type": "markdown",
      "metadata": {
        "id": "1WNYoTIHXDS0"
      },
      "source": [
        "## 2c) Derivando desde las capas escondidas"
      ]
    },
    {
      "cell_type": "markdown",
      "metadata": {
        "id": "vz7TChQ8XDS0"
      },
      "source": [
        "Escribe tus respuestas acá. Repite los siguientes cálculos para $\\text{relu}, \\text{celu}, \\text{swish}$\n",
        "<br>\n",
        "\n",
        "\\begin{equation}\n",
        "\\frac{\\partial\\cal L}{\\partial u^{(k)}} = \\frac{\\partial \\cal L}{\\partial h^{(k)}} \\cdot \\frac{\\partial h^{(k)}}{\\partial u^{(k)}}\\\\\n",
        "\\end{equation}\n",
        "<br>\n",
        "\n",
        "Recordando que $h^{(k)} = f(u^{(k)})$, siendo $f$ la función de activación para la capa i-ésima, tenemos que lo anterior se puede escribir como:\n",
        "\n",
        "\\begin{equation}\n",
        "\\frac{\\partial\\cal L}{\\partial u^{(k)}} = \\frac{\\partial \\cal L}{\\partial h^{(k)}} \\cdot f'(u^{(k)})\\\\\n",
        "\\end{equation}\n",
        "\n",
        "Los valores de las derivadas de las funciones de activación ($f'(u^{(k)})$) fueron calculados en la parte 1 a) y no se repiten para no ser redundantes.\n",
        "\n",
        "El resto de las derivadas fueron calculadas en clases y se consideran conocidas ya que se encuentran en Material Docente del curso, por lo que solo se ponen los resultados a continuación:\n",
        "\n",
        "\\begin{equation}\n",
        "\\frac{\\partial\\cal L}{\\partial W^{(k)}} = (h^{(k-1)})^{T}\\cdot \\frac{\\partial \\cal L}{\\partial u^{(k)}} \\\\\n",
        "\\end{equation}\n",
        "<br>\n",
        "\n",
        "\\begin{equation}\n",
        "\\frac{\\partial\\cal L}{\\partial b^{(k)}} = \\frac{\\partial \\cal  L}{\\partial u^{(k)}} \\cdot \\begin{bmatrix}\n",
        "           1 \\\\\n",
        "           1 \\\\\n",
        "           \\vdots \\\\\n",
        "           1\\\\\n",
        "           \\end{bmatrix} = \\text{sum}(\\frac{\\partial \\cal L}{\\partial u^{(k)}}, dim=0)\n",
        "\\end{equation}\n",
        "<br>\n",
        "\n",
        "\\begin{equation}\n",
        "\\frac{\\partial\\cal L}{\\partial h^{(k-1)}} = \\frac{\\partial \\cal L}{\\partial u^{(k)}} \\cdot (W^{(k)})^{T} \\\\\n",
        "\\end{equation}\n",
        "<br>"
      ]
    },
    {
      "cell_type": "markdown",
      "metadata": {
        "id": "0n29s-6zXDS1"
      },
      "source": [
        "# Parte 3: Backpropagation en nuestra red"
      ]
    },
    {
      "cell_type": "markdown",
      "metadata": {
        "id": "do04-nhfXDS2"
      },
      "source": [
        "## 3a) Método `backward` + parte 3b) Opcional"
      ]
    },
    {
      "cell_type": "code",
      "metadata": {
        "id": "ytN2y-FMXDS3"
      },
      "source": [
        "# Acá solo deberías programar la función backward.\n",
        "# El resto del código viene de la Tarea 1 (a menos que hayas programado\n",
        "# la parte opcional en cuyo caso también deberías cambiar el inicializador).\n",
        "# Puedes incluir todo el código de la Tarea 1 que quieras.\n",
        "import torch.nn as nn\n",
        "from torch.nn import Parameter, ParameterList\n",
        "import math\n",
        "\n",
        "def get_init_weights(shape):\n",
        "  W = torch.randn(shape)\n",
        "  # stdv = 1. / math.sqrt(W.size(1))\n",
        "  # W.data.uniform_(-stdv, stdv)\n",
        "  return Parameter(W)\n",
        "\n",
        "class FFNN(nn.Module):\n",
        "  def __init__(self, F, l_h, l_a, C, l_a_params=None):\n",
        "    super(FFNN, self).__init__()\n",
        "       \n",
        "    sizes = [F] + l_h + [C]\n",
        "    self.Ws = ParameterList([get_init_weights((sizes[i], sizes[i+1])) for i in range(len(sizes)-1)])\n",
        "    self.bs = ParameterList([Parameter(torch.zeros(h)) for h in sizes[1:]])\n",
        "    self.fs = l_a\n",
        "    if l_a_params is not None:\n",
        "      self.fs_ps_mask = [Parameter(torch.tensor(p)) if p else None for p in l_a_params]\n",
        "    else:\n",
        "      self.fs_ps_mask = [None for _ in l_a]\n",
        "    self.fs_ps = ParameterList([p for p in self.fs_ps_mask if p])\n",
        "    \n",
        "  @property\n",
        "  def in_size(self):\n",
        "    return self.Ws[0].shape[0]\n",
        "    \n",
        "  def load_weights(self, Ws, U, bs, c):\n",
        "    self.Ws = ParameterList([Parameter(W) for W in Ws + [U]])\n",
        "    self.bs = ParameterList([Parameter(b) for b in bs + [c]])\n",
        "  \n",
        "  def resumen(self):\n",
        "    # Usa self.parameters() o self.named_parameters().\n",
        "    for name, p in self.named_parameters():\n",
        "      print('{}:\\t{}'.format(name, p.size()))\n",
        "    pass\n",
        "  \n",
        "  def forward(self, x):\n",
        "    self.cacheU = [] #, self.cacheH = [], []\n",
        "    for W, b, f, p in zip(self.Ws[:-1], self.bs[:-1], self.fs, self.fs_ps_mask):\n",
        "      x = torch.mm(x, W) + b\n",
        "      self.cacheU.append(x)\n",
        "      x = f(x, p.item()) if p else f(x)\n",
        "#       self.cacheH.append(x)\n",
        "    return softmax(torch.mm(x, self.Ws[-1]) + self.bs[-1], dim=1)\n",
        "  \n",
        "  # nuevo código Tarea 2\n",
        "  def backward(self, x, y, y_pred):\n",
        "    current_grad = (y_pred - y) / y.size(0)\n",
        "    \n",
        "    for i in range(len(self.Ws)-1, 0, -1):\n",
        "      if self.fs_ps_mask[i-1] is None:\n",
        "        # funcion de activacion sin parametro\n",
        "        self.Ws[i].grad = self.fs[i-1](self.cacheU[i-1]).t() @ current_grad\n",
        "      else:\n",
        "        # funcion de activacion con parametro\n",
        "        self.Ws[i].grad = self.fs[i-1](self.cacheU[i-1], self.fs_ps_mask[i-1].item()).t() @ current_grad\n",
        "      self.bs[i].grad = current_grad.sum(dim=0)\n",
        "      h_grad = current_grad @ self.Ws[i].t()\n",
        "      \n",
        "      if self.fs_ps_mask[i-1] is None:\n",
        "        # funcion de activacion sin parametro\n",
        "        current_grad = self.fs[i-1](self.cacheU[i-1], gradient=True) * h_grad\n",
        "      else:\n",
        "        # funcion de activacion con parametro\n",
        "        current_grad, p_grad = self.fs[i-1](self.cacheU[i-1], self.fs_ps_mask[i-1], gradient=True)\n",
        "        current_grad *= h_grad\n",
        "        self.fs_ps_mask[i-1].grad = (p_grad * h_grad).sum()\n",
        "    \n",
        "    self.Ws[0].grad = x.t() @ current_grad\n",
        "    self.bs[0].grad = current_grad.sum(dim=0)"
      ],
      "execution_count": 7,
      "outputs": []
    },
    {
      "cell_type": "code",
      "metadata": {
        "id": "1S3suoQ2tZfX",
        "colab": {
          "base_uri": "https://localhost:8080/"
        },
        "outputId": "875b288d-13a3-4342-b5fb-2e4418ba995b"
      },
      "source": [
        "# Tests del API del curso\n",
        "# (estos Tests NO sustituyen al anterior en la verificación de los gradientes)\n",
        "for test in ['mnist-model']:\n",
        "  # Obtenemos los parámetos de la red desde el API\n",
        "  F, l_h, l_a, C, Ws, U, bs, c, X, y = corrector.get_test_data(homework=2, question=\"3a\", test=test, token=token)\n",
        "  l_a = [f for s in l_a for f in [sig, tanh, relu, celu] if f.__name__ == s]\n",
        " \n",
        "  print([torch.tensor (w).size () for w in Ws])\n",
        " \n",
        "  # Inicializamos modelo con parámetros del API\n",
        "  your_model = FFNN(F=F, l_h=l_h, l_a=l_a, C=C)\n",
        "  your_model.load_weights([torch.Tensor(l) for l in Ws], torch.Tensor(U),\n",
        "                          [torch.Tensor(l) for l in bs], torch.Tensor(c))\n",
        "  \n",
        "  # Obtenemos el índice del parámetro Ws[0] en la lista de parámetros de tu modelo\n",
        "  idx = next(i for i, p in enumerate(your_model.parameters()) if p.size() == torch.Tensor(Ws[1]).size() and torch.all(torch.Tensor(Ws[1])==p))\n",
        " \n",
        "  # Ejecutamos el forward de para input del API\n",
        "  y_pred = your_model(torch.Tensor(X))\n",
        "  \n",
        "  # Corramos el backward de tu modelo para ver como se comporta\n",
        "  s = timer()\n",
        "  your_model.backward(torch.Tensor(X), torch.Tensor(y), y_pred)\n",
        "  t = timer() - s\n",
        " \n",
        "  # Veamos todo fue OK :)\n",
        "  corrector.sumbit(homework=2, question=\"3a\", test=test, token=token, \n",
        "                   answer=list(your_model.parameters())[idx].grad.mean(), time=0)"
      ],
      "execution_count": 8,
      "outputs": [
        {
          "output_type": "stream",
          "name": "stdout",
          "text": [
            "[torch.Size([784, 32]), torch.Size([32, 16])]\n"
          ]
        },
        {
          "output_type": "stream",
          "name": "stderr",
          "text": [
            "/usr/local/lib/python3.7/dist-packages/ipykernel_launcher.py:28: FutureWarning: Old method `sumbit` has been renamed to `submit`, please use that instead.\n"
          ]
        },
        {
          "output_type": "stream",
          "name": "stdout",
          "text": [
            "Correct Test!\n"
          ]
        }
      ]
    },
    {
      "cell_type": "markdown",
      "metadata": {
        "id": "s6_7qOkAlcTX"
      },
      "source": [
        "## 3c) Opcional: Chequeo de gradiente"
      ]
    },
    {
      "cell_type": "code",
      "metadata": {
        "id": "AjfsSKLIlgKj"
      },
      "source": [
        "# No es necesario que entregues código en esta parte dado \n",
        "# que solo es necesario para debuggear que tu implementación está correcta.\n",
        "# Pero si quieres, igual hay espacio ;-)"
      ],
      "execution_count": 9,
      "outputs": []
    },
    {
      "cell_type": "markdown",
      "metadata": {
        "id": "SDSYiQQ6nkjX"
      },
      "source": [
        "# Parte 4: Descenso de gradiente y optimización"
      ]
    },
    {
      "cell_type": "markdown",
      "metadata": {
        "id": "yqBwusuXnsjO"
      },
      "source": [
        "## 4a) Descenso de gradiente (estocástico)"
      ]
    },
    {
      "cell_type": "code",
      "metadata": {
        "id": "tId-cHk7ntDW"
      },
      "source": [
        "# Tu código debiera comenzar así\n",
        "class SGD():\n",
        "  def __init__(self, parameters, lr):\n",
        "    self.params = [p for p in parameters if p is not None]\n",
        "    self.lr = lr\n",
        "  \n",
        "  def step(self):\n",
        "    for p in self.params:\n",
        "        p.data -= p.grad * self.lr"
      ],
      "execution_count": 10,
      "outputs": []
    },
    {
      "cell_type": "code",
      "metadata": {
        "id": "yN9Bh70SJGgI",
        "colab": {
          "base_uri": "https://localhost:8080/"
        },
        "outputId": "1bfa75f2-5fec-4fad-8818-30d8350ab644"
      },
      "source": [
        "# Tests del API del curso\n",
        "from torch.nn import Parameter\n",
        "for test in ['small-step', 'big-step', 'random']:\n",
        "  # Obtengamos una lista de parametros (con gradientes en .grad) \n",
        "  # y un valor de learning-rate para probar tu SGD\n",
        "  ds, gs, lr, idx = corrector.get_test_data(homework=2, question=\"4a\", test=test, token=token)\n",
        "  parameters = [Parameter(torch.Tensor(d)) for d in ds]\n",
        "  for p, g in zip(parameters, gs):\n",
        "    p.grad = torch.Tensor(g)\n",
        "\n",
        "  # Inicialicemos tu SGD\n",
        "  optimizer = SGD(parameters, lr)\n",
        "\n",
        "  # Ejecutemos un paso de tu SGD para ver como se comporta\n",
        "  s = timer()\n",
        "  optimizer.step()\n",
        "  t = timer() - s\n",
        "\n",
        "  # Veamos si todo fue OK :)\n",
        "  corrector.sumbit(homework=2, question=\"4a\", test=test, token=token, \n",
        "                   answer=parameters[idx].data, time=0)"
      ],
      "execution_count": 11,
      "outputs": [
        {
          "output_type": "stream",
          "name": "stderr",
          "text": [
            "/usr/local/lib/python3.7/dist-packages/ipykernel_launcher.py:21: FutureWarning: Old method `sumbit` has been renamed to `submit`, please use that instead.\n"
          ]
        },
        {
          "output_type": "stream",
          "name": "stdout",
          "text": [
            "Correct Test!\n",
            "Correct Test!\n",
            "Correct Test!\n"
          ]
        }
      ]
    },
    {
      "cell_type": "markdown",
      "metadata": {
        "id": "wy0KFSX4nzP0"
      },
      "source": [
        "## 4b) Datos para carga"
      ]
    },
    {
      "cell_type": "code",
      "metadata": {
        "id": "bByG7kXlnwAQ"
      },
      "source": [
        "from torch.utils.data import Dataset, DataLoader\n",
        "\n",
        "\n",
        "class RandomDataset(Dataset):\n",
        "  def __init__(self, N, F, C):\n",
        "    self.N = N\n",
        "    self.data = torch.rand(N, F)\n",
        "    self.targets = torch.randint(0, C, (N,))\n",
        "  \n",
        "  def __len__(self):\n",
        "    return self.N\n",
        "  \n",
        "  def __getitem__(self, i):\n",
        "    return self.data[i], self.targets[i]\n",
        "\n",
        "\n",
        "class BernuliDataset(Dataset):\n",
        "  def __init__(self, N, F, C):\n",
        "    self.N = N\n",
        "    self.data = torch.bernoulli(torch.rand(N,F))\n",
        "    self.targets = torch.randint(0, C, (N,))\n",
        "  \n",
        "  def __len__(self):\n",
        "    return self.N\n",
        "  \n",
        "  def __getitem__(self, i):\n",
        "    return self.data[i], self.targets[i]\n",
        "  \n",
        "\n",
        "class ToyDataset(Dataset):\n",
        "  def __init__(self, logic_gate='xor'):\n",
        "    self.N = 4\n",
        "    self.data = torch.tensor([[1., 1.], [1.,0.], [0.,1.], [0.,0.]])\n",
        "    if logic_gate == 'XOR':\n",
        "      self.targets = torch.tensor([0,1,1,0]) \n",
        "    elif logic_gate == 'AND':\n",
        "      self.targets = torch.tensor([1,0,0,0])\n",
        "    elif logic_gate == 'OR':\n",
        "      self.targets = torch.tensor([1,1,1,0])\n",
        "\n",
        "  def __len__(self):\n",
        "    return self.N\n",
        "  \n",
        "  def __getitem__(self, i):\n",
        "    return self.data[i], self.targets[i]"
      ],
      "execution_count": 12,
      "outputs": []
    },
    {
      "cell_type": "code",
      "metadata": {
        "id": "x49Wy06IsJDU",
        "colab": {
          "base_uri": "https://localhost:8080/"
        },
        "outputId": "a0264e91-29f7-4fa0-ee3c-821c02bc4e9c"
      },
      "source": [
        "# Inicialicemos un RandomDataset de prueba\n",
        "import random\n",
        "import numpy as np\n",
        "N = 1000\n",
        "F,C=300,random.randint(2,N//2)\n",
        "your_dataset = RandomDataset(N,F,C)\n",
        "\n",
        "# Veamos como se comportan __len__ y __getitem__\n",
        "print(\"Correct Test!\" if len(your_dataset) == N else \"Failed Test [len]\") \n",
        "print(\"Correct Test!\" if type(your_dataset[N//2]) == tuple and len(your_dataset[N//3]) == 2 else \"Failed Test [getitem]\")\n",
        "\n",
        "if C >= 2:\n",
        "  # Veamos como se comporta la distribución de los targets de tu dataset\n",
        "  targets = your_dataset[:][1].numpy()\n",
        "  corrects = np.isclose([((targets == c1).sum()+(targets == c2).sum())/2 for c1 in range(C) for c2 in range(c1,C)], N/C, atol=3).sum()\n",
        "  print(\"Correct Test!\" if corrects/(C*(C-1)/2) > .5 else  \"Failed Test [targets]\")"
      ],
      "execution_count": 13,
      "outputs": [
        {
          "output_type": "stream",
          "name": "stdout",
          "text": [
            "Correct Test!\n",
            "Correct Test!\n",
            "Correct Test!\n"
          ]
        }
      ]
    },
    {
      "cell_type": "markdown",
      "metadata": {
        "id": "2-q8vJOMn3AA"
      },
      "source": [
        "## 4c) Optimizando los parámetros de la red para datos al azar"
      ]
    },
    {
      "cell_type": "code",
      "metadata": {
        "id": "Ap0AKJijn5DY"
      },
      "source": [
        "import sys\n",
        "\n",
        "# Tu código acá\n",
        "def entrenar_FFNN(red, dataset, optimizador, epochs=1, batch_size=1, reports_every=1, device='cuda'):\n",
        "  red.to(device)\n",
        "  data = DataLoader(dataset, batch_size, shuffle=True)\n",
        "  total=len(dataset)\n",
        "  tiempo_epochs = 0\n",
        "  loss, acc = [], []\n",
        "  for e in range(1,epochs+1):  \n",
        "    inicio_epoch = timer()\n",
        "    \n",
        "    for x, y in data:\n",
        "      x, y = x.view(x.size(0), -1).float().to(device), y.to(device)\n",
        "      \n",
        "      y_pred = red(x)\n",
        "      \n",
        "      y_onehot = torch.zeros_like(y_pred)\n",
        "      y_onehot[torch.arange(x.size(0)), y] = 1.\n",
        "    \n",
        "      red.backward(x, y_onehot, y_pred)\n",
        "\n",
        "      optimizador.step()\n",
        "      \n",
        "    tiempo_epochs += timer() - inicio_epoch\n",
        "    \n",
        "    if e % reports_every == 0:\n",
        "      X = dataset.data.view(len(dataset), -1).float().to(device)\n",
        "      Y = dataset.targets.to(device)\n",
        "      \n",
        "      Y_PRED = red.forward(X).to(device)\n",
        "      \n",
        "      Y_onehot = torch.zeros_like(Y_PRED)\n",
        "      Y_onehot[torch.arange(X.size(0)), Y] = 1.\n",
        "\n",
        "      L_total = CELoss(Y_PRED, Y_onehot)\n",
        "      loss.append(L_total)\n",
        "      diff = Y-torch.argmax(Y_PRED,1)\n",
        "      errores = torch.nonzero(diff).size(0)\n",
        "      \n",
        "      Acc=100*(total-errores)/total\n",
        "      acc.append(Acc)\n",
        "\n",
        "      sys.stdout.write(\n",
        "            '\\rEpoch:{0:03d}'.format(e) + ' Acc:{0:.2f}%'.format(Acc)\n",
        "            + ' Loss:{0:.4f}'.format(L_total) \n",
        "            + ' Tiempo/epoch:{0:.3f}s'.format(tiempo_epochs/e))\n",
        "  \n",
        "  return loss, acc"
      ],
      "execution_count": 14,
      "outputs": []
    },
    {
      "cell_type": "markdown",
      "metadata": {
        "id": "NDnYdhV0n_X-"
      },
      "source": [
        "## 4d) Graficando la pérdida/error en el tiempo"
      ]
    },
    {
      "cell_type": "code",
      "metadata": {
        "id": "wrHJGoIf3t36"
      },
      "source": [
        "import matplotlib.pyplot as plt\n",
        "\n",
        "def plot_results(loss, acc):\n",
        "  f1 = plt.figure(1)\n",
        "  ax1 = f1.add_subplot(111)\n",
        "  ax1.set_title(\"Loss\")    \n",
        "  ax1.set_xlabel('epochs')\n",
        "  ax1.set_ylabel('loss')\n",
        "  ax1.plot(loss, c='r')\n",
        "  f1.show()\n",
        "\n",
        "  f2 = plt.figure(2)\n",
        "  ax2 = f2.add_subplot(111)\n",
        "  ax2.set_title(\"Accuracy\")    \n",
        "  ax2.set_xlabel('epochs')\n",
        "  ax2.set_ylabel('acc')\n",
        "  ax2.plot(acc, c='b')\n",
        "  f2.show()"
      ],
      "execution_count": 15,
      "outputs": []
    },
    {
      "cell_type": "code",
      "metadata": {
        "id": "NVhVgf1poBkQ",
        "colab": {
          "base_uri": "https://localhost:8080/",
          "height": 590
        },
        "outputId": "8f90f40a-594e-4263-d223-577727c0b347"
      },
      "source": [
        "N, F, C, batch_size, epochs = 1000, 300, 10, 125, 120\n",
        "dataset = RandomDataset(N,F,C)\n",
        "model = FFNN(F, [500], [relu], C)\n",
        "optimizer = SGD(model.parameters(), lr=1e-1)\n",
        "\n",
        "with torch.no_grad():\n",
        "  loss, acc = entrenar_FFNN(model, dataset, optimizer, epochs=epochs, batch_size=batch_size)\n",
        "\n",
        "plot_results(loss, acc)"
      ],
      "execution_count": 16,
      "outputs": [
        {
          "output_type": "stream",
          "name": "stdout",
          "text": [
            "Epoch:120 Acc:99.90% Loss:0.0467 Tiempo/epoch:0.018s"
          ]
        },
        {
          "output_type": "display_data",
          "data": {
            "image/png": "[encoded data removed]",
            "text/plain": [
              "<Figure size 432x288 with 1 Axes>"
            ]
          },
          "metadata": {
            "needs_background": "light"
          }
        },
        {
          "output_type": "display_data",
          "data": {
            "image/png": "[encoded data removed]",
            "text/plain": [
              "<Figure size 432x288 with 1 Axes>"
            ]
          },
          "metadata": {
            "needs_background": "light"
          }
        }
      ]
    },
    {
      "cell_type": "code",
      "metadata": {
        "colab": {
          "base_uri": "https://localhost:8080/",
          "height": 590
        },
        "id": "J0oH00UK4Av1",
        "outputId": "f1b6c226-26d3-41d5-910a-023fabb22964"
      },
      "source": [
        "N, F, C, batch_size, epochs = 5000, 300, 10, 16, 200\n",
        "dataset = RandomDataset(N,F,C)\n",
        "model = FFNN(F, [500, 400, 300], [tanh, sig, relu], C)\n",
        "optimizer = SGD(model.parameters(), lr=1e-3)\n",
        "\n",
        "with torch.no_grad():\n",
        "  loss1, acc1 = entrenar_FFNN(model, dataset, optimizer, epochs=epochs, batch_size=batch_size)\n",
        "\n",
        "plot_results(loss1, acc1)"
      ],
      "execution_count": 17,
      "outputs": [
        {
          "output_type": "stream",
          "name": "stdout",
          "text": [
            "Epoch:200 Acc:99.98% Loss:0.0090 Tiempo/epoch:0.828s"
          ]
        },
        {
          "output_type": "display_data",
          "data": {
            "image/png": "[encoded data removed]",
            "text/plain": [
              "<Figure size 432x288 with 1 Axes>"
            ]
          },
          "metadata": {
            "needs_background": "light"
          }
        },
        {
          "output_type": "display_data",
          "data": {
            "image/png": "[encoded data removed]",
            "text/plain": [
              "<Figure size 432x288 with 1 Axes>"
            ]
          },
          "metadata": {
            "needs_background": "light"
          }
        }
      ]
    },
    {
      "cell_type": "code",
      "metadata": {
        "colab": {
          "base_uri": "https://localhost:8080/",
          "height": 590
        },
        "id": "RbStm4uk4FCy",
        "outputId": "3b6894c4-a307-432b-acf8-e49286c64c2a"
      },
      "source": [
        "N, F, C, batch_size, epochs = 4000, 300, 10, 16, 100\n",
        "model = FFNN(F, [500, 300], [tanh, sig], C)\n",
        "optimizer = SGD(model.parameters(), lr=1e-2)\n",
        "dataset = RandomDataset(N,F,C)\n",
        "\n",
        "with torch.no_grad():\n",
        "  loss2, acc2 = entrenar_FFNN(model, dataset, optimizer, epochs=epochs, batch_size=batch_size)\n",
        "\n",
        "plot_results(loss2, acc2)"
      ],
      "execution_count": 18,
      "outputs": [
        {
          "output_type": "stream",
          "name": "stdout",
          "text": [
            "Epoch:100 Acc:97.65% Loss:0.2027 Tiempo/epoch:0.569s"
          ]
        },
        {
          "output_type": "display_data",
          "data": {
            "image/png": "[encoded data removed]",
            "text/plain": [
              "<Figure size 432x288 with 1 Axes>"
            ]
          },
          "metadata": {
            "needs_background": "light"
          }
        },
        {
          "output_type": "display_data",
          "data": {
            "image/png": "[encoded data removed]",
            "text/plain": [
              "<Figure size 432x288 with 1 Axes>"
            ]
          },
          "metadata": {
            "needs_background": "light"
          }
        }
      ]
    },
    {
      "cell_type": "markdown",
      "metadata": {
        "id": "ICCODVV9oF9d"
      },
      "source": [
        "## 4e) Opcional: Optimizando tu red para MNIST"
      ]
    },
    {
      "cell_type": "code",
      "metadata": {
        "id": "-cRIuWQroDW9"
      },
      "source": [
        "# Tu código de carga de datos, creación de la red, \n",
        "# entrenamiento/optimización y reportes acá"
      ],
      "execution_count": 20,
      "outputs": []
    }
  ]
}